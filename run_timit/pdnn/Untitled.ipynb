{
 "cells": [
  {
   "cell_type": "code",
   "execution_count": 1,
   "metadata": {
    "collapsed": false
   },
   "outputs": [],
   "source": [
    "#import ipdb\n",
    "import numpy as np\n",
    "import sys\n",
    "\n",
    "from io_func.data_io import read_data_args\n",
    "from io_func.data_io import read_dataset\n",
    "from io_func.data_io import read_dataset_utt\n",
    "from io_func.pfile_io import PfileDataRead"
   ]
  },
  {
   "cell_type": "code",
   "execution_count": 2,
   "metadata": {
    "collapsed": false,
    "scrolled": false
   },
   "outputs": [
    {
     "name": "stdout",
     "output_type": "stream",
     "text": [
      "Don't use utterance save!\n",
      "Don't use utterance save!\n"
     ]
    }
   ],
   "source": [
    "(train_pl,train_opts)=read_data_args('/home/shen/kaldipdnn/run_timit/exp/pdnn_fbank/train.pfile.gz,random=true, \\\n",
    "                                     stream=true,utt=flase')\n",
    "\n",
    "train=read_dataset(train_pl,train_opts)\n",
    "\n",
    "(valid_pl,valid_opts)=read_data_args('/home/shen/kaldipdnn/run_timit/exp/pdnn_fbank/valid.pfile.gz,random=true, \\\n",
    "                                    stream=true,utt=false')\n",
    "\n",
    "valid=read_dataset(valid_pl,valid_opts)"
   ]
  },
  {
   "cell_type": "code",
   "execution_count": 17,
   "metadata": {
    "collapsed": false
   },
   "outputs": [
    {
     "ename": "IndexError",
     "evalue": "list index out of range",
     "output_type": "error",
     "traceback": [
      "\u001b[1;31m---------------------------------------------------------------------------\u001b[0m",
      "\u001b[1;31mIndexError\u001b[0m                                Traceback (most recent call last)",
      "\u001b[1;32m<ipython-input-17-e219f6cf9fbd>\u001b[0m in \u001b[0;36m<module>\u001b[1;34m()\u001b[0m\n\u001b[0;32m     11\u001b[0m '''\n\u001b[0;32m     12\u001b[0m \u001b[1;31m#len(train)\u001b[0m\u001b[1;33m\u001b[0m\u001b[1;33m\u001b[0m\u001b[0m\n\u001b[1;32m---> 13\u001b[1;33m \u001b[0mtrain\u001b[0m\u001b[1;33m[\u001b[0m\u001b[1;36m0\u001b[0m\u001b[1;33m]\u001b[0m\u001b[1;33m.\u001b[0m\u001b[0mfeat_mats\u001b[0m\u001b[1;33m[\u001b[0m\u001b[1;36m3\u001b[0m\u001b[1;33m]\u001b[0m\u001b[1;33m.\u001b[0m\u001b[0mshape\u001b[0m\u001b[1;33m\u001b[0m\u001b[0m\n\u001b[0m",
      "\u001b[1;31mIndexError\u001b[0m: list index out of range"
     ]
    }
   ],
   "source": [
    "#reader=[]\n",
    "#for l in train_pl:\n",
    "#  reader.append(PfileDataRead([l], train_opts))\n",
    "\n",
    "#for ur in utt_reader:\n",
    "#  r.initialize_read(first_time_reading = True)\n",
    "'''\n",
    "def printdim(i):\n",
    "  print reader[i].feat_mats[0].shape\n",
    "  print reader[i].label_vecs[0].shape\n",
    "'''\n",
    "#len(train)\n",
    "train[0].feat_mats[3].shape"
   ]
  },
  {
   "cell_type": "code",
   "execution_count": null,
   "metadata": {
    "collapsed": false
   },
   "outputs": [],
   "source": [
    "utt_reader[1].feat_mats[0]"
   ]
  },
  {
   "cell_type": "code",
   "execution_count": null,
   "metadata": {
    "collapsed": true
   },
   "outputs": [],
   "source": []
  }
 ],
 "metadata": {
  "kernelspec": {
   "display_name": "Python 2",
   "language": "python",
   "name": "python2"
  },
  "language_info": {
   "codemirror_mode": {
    "name": "ipython",
    "version": 2
   },
   "file_extension": ".py",
   "mimetype": "text/x-python",
   "name": "python",
   "nbconvert_exporter": "python",
   "pygments_lexer": "ipython2",
   "version": "2.7.6"
  }
 },
 "nbformat": 4,
 "nbformat_minor": 0
}
